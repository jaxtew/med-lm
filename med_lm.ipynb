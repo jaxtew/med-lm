{
  "nbformat": 4,
  "nbformat_minor": 0,
  "metadata": {
    "colab": {
      "provenance": [],
      "authorship_tag": "ABX9TyM0NNaWVQbEIRb8F1U/hO4Q",
      "include_colab_link": true
    },
    "kernelspec": {
      "name": "python3",
      "display_name": "Python 3"
    },
    "language_info": {
      "name": "python"
    }
  },
  "cells": [
    {
      "cell_type": "markdown",
      "metadata": {
        "id": "view-in-github",
        "colab_type": "text"
      },
      "source": [
        "<a href=\"https://colab.research.google.com/github/jaxtew/med-lm/blob/main/med_lm.ipynb\" target=\"_parent\"><img src=\"https://colab.research.google.com/assets/colab-badge.svg\" alt=\"Open In Colab\"/></a>"
      ]
    },
    {
      "cell_type": "code",
      "execution_count": 34,
      "metadata": {
        "id": "izNde-nAYXhM"
      },
      "outputs": [],
      "source": [
        "!pip install langchain > /dev/null\n",
        "!pip install OpenAI > /dev/null\n",
        "!pip install tiktoken > /dev/null"
      ]
    },
    {
      "cell_type": "code",
      "source": [
        "from langchain.llms import OpenAI"
      ],
      "metadata": {
        "id": "ZQGQci5MY298"
      },
      "execution_count": 8,
      "outputs": []
    },
    {
      "cell_type": "code",
      "source": [
        "import os\n",
        "from getpass import getpass\n",
        "key = getpass()\n",
        "os.environ['OPENAI_API_KEY'] = key"
      ],
      "metadata": {
        "colab": {
          "base_uri": "https://localhost:8080/"
        },
        "id": "VkhcBDRiZWx1",
        "outputId": "cf7a915a-d166-42db-d231-2445d677bd8e"
      },
      "execution_count": 60,
      "outputs": [
        {
          "name": "stdout",
          "output_type": "stream",
          "text": [
            "··········\n"
          ]
        }
      ]
    },
    {
      "cell_type": "code",
      "source": [
        "MODEL_NAME = \"text-davinci-003\""
      ],
      "metadata": {
        "id": "B817yey8LoyK"
      },
      "execution_count": 62,
      "outputs": []
    },
    {
      "cell_type": "code",
      "source": [
        "from langchain import PromptTemplate, LLMChain"
      ],
      "metadata": {
        "id": "FZ9Ikl4PZeR1"
      },
      "execution_count": 28,
      "outputs": []
    },
    {
      "cell_type": "code",
      "source": [
        "with open(\"progress_note.txt\", 'r') as notef:\n",
        "  note = notef.read()"
      ],
      "metadata": {
        "colab": {
          "base_uri": "https://localhost:8080/"
        },
        "id": "ppyaiLM-6Ton",
        "outputId": "d3ea41a7-39a4-4e7e-e870-962297e1c91b"
      },
      "execution_count": 63,
      "outputs": [
        {
          "output_type": "execute_result",
          "data": {
            "text/plain": [
              "816"
            ]
          },
          "metadata": {},
          "execution_count": 63
        }
      ]
    },
    {
      "cell_type": "code",
      "source": [
        "OpenAI(model_name=MODEL_NAME).get_num_tokens(note)"
      ],
      "metadata": {
        "id": "_49Hr73nRjVV"
      },
      "execution_count": null,
      "outputs": []
    },
    {
      "cell_type": "code",
      "source": [
        "questions = {\n",
        "  '1': 'How many self-limited or minor problems assessed?',\n",
        "  '2': 'How many stable chronic problems assessed?',\n",
        "  '3': 'How many acute but uncomplicated/minor problems assessed?',\n",
        "  '4': 'How many chronic illnesses with exacerbation/progression/side effects of treatment assessed?',\n",
        "  '5': 'How many undiagnosed new problems with uncertain prognosis assessed?',\n",
        "  '6': 'How many acute illnesses with systemic symptoms assessed?',\n",
        "  '7': 'How many acute injuries with complications assessed?',\n",
        "  '8': 'How many chonic illnesses with SEVERE exacerbation/progression/side effects of treatment assessed?',\n",
        "  '9': 'How many problems pose a threat to life or permanent loss of bodily function?'\n",
        "}\n",
        "\n",
        "formatted_questions = '\\n'.join([f\"{k}. {v}\" for k, v in questions.items()])"
      ],
      "metadata": {
        "id": "P-z9CDetC-0M"
      },
      "execution_count": 55,
      "outputs": []
    },
    {
      "cell_type": "code",
      "source": [
        "from pydantic import BaseModel, Field\n",
        "\n",
        "class Questions(BaseModel):\n",
        "  one: str = Field(description=\"number of self-limited or minor problems assessed\")\n",
        "  two: str = Field(description=\"number of stable chronic problems assessed\")\n",
        "  three: str = Field(description=\"number of acute but uncomplicated/minor problems assessed\")\n",
        "  four: str = Field(description=\"number of chronic illnesses with exacerbation/progression/side effects of treatment assessed\")\n",
        "  five: str = Field(description=\"number of undiagnosed new problems with uncertain prognosis assessed\")\n",
        "  six: str = Field(description=\"number of acute illnesses with systemic symptoms assessed\")\n",
        "  seven: str = Field(description=\"number of acute injuries with complications assessed\")\n",
        "  eight: str = Field(description=\"number of chronic illnesses with severe exacerbation/progression/side effects of treatment assessed\")\n",
        "  nine: str = Field(description=\"number of problems that pose a threat to life or permanent loss of bodily function\")\n",
        "\n"
      ],
      "metadata": {
        "id": "Xpu6vtwCMX1i"
      },
      "execution_count": 67,
      "outputs": []
    },
    {
      "cell_type": "code",
      "source": [
        "class AnalysisPipeline:\n",
        "  def get_pydantic_parser(self):\n",
        "    raise NotImplementedError(\"Abstract\")\n",
        "  \n",
        "  def compute_category(self, BaseModel)"
      ],
      "metadata": {
        "id": "JLPXOEyvfQbk"
      },
      "execution_count": null,
      "outputs": []
    },
    {
      "cell_type": "code",
      "source": [
        "from langchain.output_parsers import PydanticOutputParser\n",
        "\n",
        "parser = PydanticOutputParser(pydantic_object=Questions)"
      ],
      "metadata": {
        "id": "dL6xK1KpIGnM"
      },
      "execution_count": 68,
      "outputs": []
    },
    {
      "cell_type": "code",
      "source": [
        "template = \"\"\"Patient progress note: {note}\n",
        "\n",
        "Questions: \n",
        "{questions}\n",
        "\"\"\"\n",
        "\n",
        "prompt = PromptTemplate(template=template, \n",
        "                        input_variables=['note'], \n",
        "                        partial_variables={\"questions\": parser.get_format_instructions()})"
      ],
      "metadata": {
        "id": "D1SJ_95Xb1dC"
      },
      "execution_count": 69,
      "outputs": []
    },
    {
      "cell_type": "code",
      "source": [
        "chain = LLMChain(prompt=prompt, llm=OpenAI(model_name=MODEL_NAME))"
      ],
      "metadata": {
        "id": "-lKurBZqeUST"
      },
      "execution_count": 70,
      "outputs": []
    },
    {
      "cell_type": "code",
      "source": [
        "output = chain(inputs={\"note\": note})\n",
        "\n",
        "out_map = parser.parse(output['text'])"
      ],
      "metadata": {
        "id": "3P-p_V1teds3"
      },
      "execution_count": 73,
      "outputs": []
    },
    {
      "cell_type": "code",
      "source": [],
      "metadata": {
        "id": "-kO16JzPYV6y"
      },
      "execution_count": null,
      "outputs": []
    }
  ]
}